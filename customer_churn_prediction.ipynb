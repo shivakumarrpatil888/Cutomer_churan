{
  "nbformat": 4,
  "nbformat_minor": 0,
  "metadata": {
    "colab": {
      "provenance": []
    },
    "kernelspec": {
      "name": "python3",
      "display_name": "Python 3"
    },
    "language_info": {
      "name": "python"
    }
  },
  "cells": [
    {
      "cell_type": "code",
      "execution_count": 5,
      "metadata": {
        "colab": {
          "base_uri": "https://localhost:8080/",
          "height": 668
        },
        "id": "HLMQHkTMATN8",
        "outputId": "0c0e53c4-1a2f-4f14-e629-94b44b96ba7b"
      },
      "outputs": [
        {
          "output_type": "stream",
          "name": "stderr",
          "text": [
            "<ipython-input-5-603b41c4ce20>:22: FutureWarning: DataFrame.fillna with 'method' is deprecated and will raise in a future version. Use obj.ffill() or obj.bfill() instead.\n",
            "  data.fillna(method='ffill', inplace=True)\n"
          ]
        },
        {
          "output_type": "stream",
          "name": "stdout",
          "text": [
            "Classification Report:\n",
            "               precision    recall  f1-score   support\n",
            "\n",
            "           0       0.83      0.91      0.87      1036\n",
            "           1       0.66      0.48      0.56       373\n",
            "\n",
            "    accuracy                           0.80      1409\n",
            "   macro avg       0.74      0.70      0.71      1409\n",
            "weighted avg       0.78      0.80      0.79      1409\n",
            "\n"
          ]
        },
        {
          "output_type": "display_data",
          "data": {
            "text/plain": [
              "<Figure size 640x480 with 2 Axes>"
            ],
            "image/png": "[encoded data removed]"
          },
          "metadata": {}
        }
      ],
      "source": [
        "# Customer Churn Prediction Project\n",
        "\n",
        "## Step 1: Import Libraries\n",
        "import pandas as pd\n",
        "import numpy as np\n",
        "import seaborn as sns\n",
        "import matplotlib.pyplot as plt\n",
        "from sklearn.model_selection import train_test_split\n",
        "from sklearn.preprocessing import LabelEncoder, StandardScaler\n",
        "from sklearn.ensemble import RandomForestClassifier\n",
        "from sklearn.metrics import classification_report, confusion_matrix\n",
        "\n",
        "\n",
        "## Step 2: Load Dataset\n",
        "def load_data(file_path):\n",
        "    return pd.read_csv(file_path)\n",
        "\n",
        "\n",
        "## Step 3: Preprocess Data\n",
        "def preprocess_data(data):\n",
        "    # Handle missing values\n",
        "    data.fillna(method='ffill', inplace=True)\n",
        "\n",
        "    # Encode categorical features\n",
        "    label_encoders = {}\n",
        "    for column in data.select_dtypes(include=['object']).columns:\n",
        "        label_encoders[column] = LabelEncoder()\n",
        "        data[column] = label_encoders[column].fit_transform(data[column])\n",
        "\n",
        "    return data, label_encoders\n",
        "\n",
        "\n",
        "## Step 4: Split Data\n",
        "def split_data(data, target_column):\n",
        "    X = data.drop(columns=[target_column])\n",
        "    y = data[target_column]\n",
        "    return train_test_split(X, y, test_size=0.2, random_state=42)\n",
        "\n",
        "\n",
        "## Step 5: Train Model\n",
        "def train_model(X_train, y_train):\n",
        "    model = RandomForestClassifier(random_state=42)\n",
        "    model.fit(X_train, y_train)\n",
        "    return model\n",
        "\n",
        "\n",
        "## Step 6: Evaluate Model\n",
        "def evaluate_model(model, X_test, y_test):\n",
        "    y_pred = model.predict(X_test)\n",
        "    print(\"Classification Report:\\n\", classification_report(y_test, y_pred))\n",
        "    sns.heatmap(confusion_matrix(y_test, y_pred), annot=True, fmt='d', cmap='Blues')\n",
        "    plt.show()\n",
        "\n",
        "\n",
        "## Step 7: Save Model\n",
        "def save_model(model, file_path):\n",
        "    import joblib\n",
        "    joblib.dump(model, file_path)\n",
        "\n",
        "\n",
        "## Step 8: Main Workflow\n",
        "def main():\n",
        "    # Load data\n",
        "    data = load_data('/content/raw_data.csv')\n",
        "\n",
        "    # Preprocess data\n",
        "    data, encoders = preprocess_data(data)\n",
        "\n",
        "    # Split data\n",
        "    X_train, X_test, y_train, y_test = split_data(data, target_column='Churn')\n",
        "\n",
        "    # Train model\n",
        "    model = train_model(X_train, y_train)\n",
        "\n",
        "    # Evaluate model\n",
        "    evaluate_model(model, X_test, y_test)\n",
        "\n",
        "\n",
        "\n",
        "\n",
        "if __name__ == '__main__':\n",
        "    main()"
      ]
    }
  ]
}